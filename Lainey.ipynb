{
 "cells": [
  {
   "cell_type": "raw",
   "id": "33dd6c4c",
   "metadata": {},
   "source": [
    "---\n",
    "title: \"Project Code\"\n",
    "subtitle: LCJJ\n",
    "author: Lainey Neild, Charlie Lovett, Jacob Muriel, Jack Troxel\n",
    "date: 02/27/2023\n",
    "number-sections: true\n",
    "abstract: _This file contains the code for the project on Alcohol Consumption, as part of the STAT303-2 course in Winter 2023_.\n",
    "format: \n",
    "  html:\n",
    "    toc: true\n",
    "    toc-title: Contents\n",
    "    self-contained: true\n",
    "    font-size: 100%\n",
    "    toc-depth: 4\n",
    "    mainfont: serif\n",
    "jupyter: python3\n",
    "---"
   ]
  },
  {
   "cell_type": "markdown",
   "id": "fe7ea9bb",
   "metadata": {},
   "source": [
    "## Data quality check / cleaning / preparation \n",
    "\n",
    "Put code with comments. The comments should explain the code such that it can be easily understood. You may put text *(in a markdown cell)* before a large chunk of code to explain the overall purpose of the code, if it is not intuitive. **Put the name of the person / persons who contributed to each code chunk / set of code chunks.** An example is given below."
   ]
  },
  {
   "cell_type": "code",
   "execution_count": 50,
   "id": "6e17f96d",
   "metadata": {},
   "outputs": [],
   "source": [
    "# imports:\n",
    "import pandas as pd\n",
    "import numpy as np\n",
    "import statsmodels.formula.api as smf\n",
    "import seaborn as sns\n",
    "import matplotlib.pyplot as plt\n",
    "import statsmodels.api as sm"
   ]
  },
  {
   "cell_type": "code",
   "execution_count": 55,
   "id": "0728068c",
   "metadata": {},
   "outputs": [
    {
     "data": {
      "text/html": [
       "<div>\n",
       "<style scoped>\n",
       "    .dataframe tbody tr th:only-of-type {\n",
       "        vertical-align: middle;\n",
       "    }\n",
       "\n",
       "    .dataframe tbody tr th {\n",
       "        vertical-align: top;\n",
       "    }\n",
       "\n",
       "    .dataframe thead th {\n",
       "        text-align: right;\n",
       "    }\n",
       "</style>\n",
       "<table border=\"1\" class=\"dataframe\">\n",
       "  <thead>\n",
       "    <tr style=\"text-align: right;\">\n",
       "      <th></th>\n",
       "      <th>Entity</th>\n",
       "      <th>Code</th>\n",
       "      <th>Year</th>\n",
       "      <th>DALYs (Disability-Adjusted Life Years) - Alcohol use disorders - Sex: Both - Age: All Ages (Rate)</th>\n",
       "      <th>DALYs (Disability-Adjusted Life Years) - Alcohol use disorders - Sex: Both - Age: 70+ years (Rate)</th>\n",
       "      <th>DALYs (Disability-Adjusted Life Years) - Alcohol use disorders - Sex: Both - Age: 5-14 years (Rate)</th>\n",
       "      <th>DALYs (Disability-Adjusted Life Years) - Alcohol use disorders - Sex: Both - Age: 15-49 years (Rate)</th>\n",
       "      <th>DALYs (Disability-Adjusted Life Years) - Alcohol use disorders - Sex: Both - Age: Age-standardized (Rate)</th>\n",
       "      <th>DALYs (Disability-Adjusted Life Years) - Alcohol use disorders - Sex: Both - Age: 50-69 years (Rate)</th>\n",
       "    </tr>\n",
       "  </thead>\n",
       "  <tbody>\n",
       "    <tr>\n",
       "      <th>0</th>\n",
       "      <td>Afghanistan</td>\n",
       "      <td>AFG</td>\n",
       "      <td>1990</td>\n",
       "      <td>56.93</td>\n",
       "      <td>52.20</td>\n",
       "      <td>1.73</td>\n",
       "      <td>101.05</td>\n",
       "      <td>79.02</td>\n",
       "      <td>108.86</td>\n",
       "    </tr>\n",
       "    <tr>\n",
       "      <th>1</th>\n",
       "      <td>Afghanistan</td>\n",
       "      <td>AFG</td>\n",
       "      <td>1991</td>\n",
       "      <td>56.04</td>\n",
       "      <td>51.88</td>\n",
       "      <td>1.70</td>\n",
       "      <td>99.45</td>\n",
       "      <td>78.60</td>\n",
       "      <td>107.58</td>\n",
       "    </tr>\n",
       "    <tr>\n",
       "      <th>2</th>\n",
       "      <td>Afghanistan</td>\n",
       "      <td>AFG</td>\n",
       "      <td>1992</td>\n",
       "      <td>55.59</td>\n",
       "      <td>51.60</td>\n",
       "      <td>1.69</td>\n",
       "      <td>99.11</td>\n",
       "      <td>78.55</td>\n",
       "      <td>106.46</td>\n",
       "    </tr>\n",
       "    <tr>\n",
       "      <th>3</th>\n",
       "      <td>Afghanistan</td>\n",
       "      <td>AFG</td>\n",
       "      <td>1993</td>\n",
       "      <td>55.67</td>\n",
       "      <td>51.64</td>\n",
       "      <td>1.66</td>\n",
       "      <td>100.44</td>\n",
       "      <td>78.89</td>\n",
       "      <td>106.02</td>\n",
       "    </tr>\n",
       "    <tr>\n",
       "      <th>4</th>\n",
       "      <td>Afghanistan</td>\n",
       "      <td>AFG</td>\n",
       "      <td>1994</td>\n",
       "      <td>55.61</td>\n",
       "      <td>51.76</td>\n",
       "      <td>1.64</td>\n",
       "      <td>102.26</td>\n",
       "      <td>79.15</td>\n",
       "      <td>105.85</td>\n",
       "    </tr>\n",
       "  </tbody>\n",
       "</table>\n",
       "</div>"
      ],
      "text/plain": [
       "        Entity Code  Year  \\\n",
       "0  Afghanistan  AFG  1990   \n",
       "1  Afghanistan  AFG  1991   \n",
       "2  Afghanistan  AFG  1992   \n",
       "3  Afghanistan  AFG  1993   \n",
       "4  Afghanistan  AFG  1994   \n",
       "\n",
       "   DALYs (Disability-Adjusted Life Years) - Alcohol use disorders - Sex: Both - Age: All Ages (Rate)  \\\n",
       "0                                              56.93                                                   \n",
       "1                                              56.04                                                   \n",
       "2                                              55.59                                                   \n",
       "3                                              55.67                                                   \n",
       "4                                              55.61                                                   \n",
       "\n",
       "   DALYs (Disability-Adjusted Life Years) - Alcohol use disorders - Sex: Both - Age: 70+ years (Rate)  \\\n",
       "0                                              52.20                                                    \n",
       "1                                              51.88                                                    \n",
       "2                                              51.60                                                    \n",
       "3                                              51.64                                                    \n",
       "4                                              51.76                                                    \n",
       "\n",
       "   DALYs (Disability-Adjusted Life Years) - Alcohol use disorders - Sex: Both - Age: 5-14 years (Rate)  \\\n",
       "0                                               1.73                                                     \n",
       "1                                               1.70                                                     \n",
       "2                                               1.69                                                     \n",
       "3                                               1.66                                                     \n",
       "4                                               1.64                                                     \n",
       "\n",
       "   DALYs (Disability-Adjusted Life Years) - Alcohol use disorders - Sex: Both - Age: 15-49 years (Rate)  \\\n",
       "0                                             101.05                                                      \n",
       "1                                              99.45                                                      \n",
       "2                                              99.11                                                      \n",
       "3                                             100.44                                                      \n",
       "4                                             102.26                                                      \n",
       "\n",
       "   DALYs (Disability-Adjusted Life Years) - Alcohol use disorders - Sex: Both - Age: Age-standardized (Rate)  \\\n",
       "0                                              79.02                                                           \n",
       "1                                              78.60                                                           \n",
       "2                                              78.55                                                           \n",
       "3                                              78.89                                                           \n",
       "4                                              79.15                                                           \n",
       "\n",
       "   DALYs (Disability-Adjusted Life Years) - Alcohol use disorders - Sex: Both - Age: 50-69 years (Rate)  \n",
       "0                                             108.86                                                     \n",
       "1                                             107.58                                                     \n",
       "2                                             106.46                                                     \n",
       "3                                             106.02                                                     \n",
       "4                                             105.85                                                     "
      ]
     },
     "execution_count": 55,
     "metadata": {},
     "output_type": "execute_result"
    }
   ],
   "source": [
    "# load in data set\n",
    "df = pd.read_csv('./Datasets/d_alc_disorders_by_age.csv')\n",
    "df.head()"
   ]
  },
  {
   "cell_type": "code",
   "execution_count": 56,
   "id": "5b0041a9",
   "metadata": {},
   "outputs": [],
   "source": [
    "df = df.drop(columns = \"Code\")\n",
    "df.rename(columns = {\"Entity\": \"Country\", \n",
    "                     'DALYs (Disability-Adjusted Life Years) - Alcohol use disorders - Sex: Both - Age: All Ages (Rate)': 'all ages rate', \n",
    "                     'DALYs (Disability-Adjusted Life Years) - Alcohol use disorders - Sex: Both - Age: 70+ years (Rate)': '70+ rate', \n",
    "                     'DALYs (Disability-Adjusted Life Years) - Alcohol use disorders - Sex: Both - Age: 5-14 years (Rate)':'5-14 rate', \n",
    "                     'DALYs (Disability-Adjusted Life Years) - Alcohol use disorders - Sex: Both - Age: 15-49 years (Rate)':'15-49 rate',\n",
    "                     'DALYs (Disability-Adjusted Life Years) - Alcohol use disorders - Sex: Both - Age: Age-standardized (Rate)':'all age standarized rate',\n",
    "                     'DALYs (Disability-Adjusted Life Years) - Alcohol use disorders - Sex: Both - Age: 50-69 years (Rate)': '50-69 rate'}, \n",
    "         inplace = True)"
   ]
  },
  {
   "cell_type": "code",
   "execution_count": 57,
   "id": "81173071",
   "metadata": {},
   "outputs": [
    {
     "data": {
      "text/html": [
       "<div>\n",
       "<style scoped>\n",
       "    .dataframe tbody tr th:only-of-type {\n",
       "        vertical-align: middle;\n",
       "    }\n",
       "\n",
       "    .dataframe tbody tr th {\n",
       "        vertical-align: top;\n",
       "    }\n",
       "\n",
       "    .dataframe thead th {\n",
       "        text-align: right;\n",
       "    }\n",
       "</style>\n",
       "<table border=\"1\" class=\"dataframe\">\n",
       "  <thead>\n",
       "    <tr style=\"text-align: right;\">\n",
       "      <th></th>\n",
       "      <th></th>\n",
       "      <th>all ages rate</th>\n",
       "      <th>70+ rate</th>\n",
       "      <th>5-14 rate</th>\n",
       "      <th>15-49 rate</th>\n",
       "      <th>all age standarized rate</th>\n",
       "      <th>50-69 rate</th>\n",
       "    </tr>\n",
       "    <tr>\n",
       "      <th>Country</th>\n",
       "      <th>Year</th>\n",
       "      <th></th>\n",
       "      <th></th>\n",
       "      <th></th>\n",
       "      <th></th>\n",
       "      <th></th>\n",
       "      <th></th>\n",
       "    </tr>\n",
       "  </thead>\n",
       "  <tbody>\n",
       "    <tr>\n",
       "      <th rowspan=\"5\" valign=\"top\">Afghanistan</th>\n",
       "      <th>1990</th>\n",
       "      <td>56.93</td>\n",
       "      <td>52.20</td>\n",
       "      <td>1.73</td>\n",
       "      <td>101.05</td>\n",
       "      <td>79.02</td>\n",
       "      <td>108.86</td>\n",
       "    </tr>\n",
       "    <tr>\n",
       "      <th>1991</th>\n",
       "      <td>56.04</td>\n",
       "      <td>51.88</td>\n",
       "      <td>1.70</td>\n",
       "      <td>99.45</td>\n",
       "      <td>78.60</td>\n",
       "      <td>107.58</td>\n",
       "    </tr>\n",
       "    <tr>\n",
       "      <th>1992</th>\n",
       "      <td>55.59</td>\n",
       "      <td>51.60</td>\n",
       "      <td>1.69</td>\n",
       "      <td>99.11</td>\n",
       "      <td>78.55</td>\n",
       "      <td>106.46</td>\n",
       "    </tr>\n",
       "    <tr>\n",
       "      <th>1993</th>\n",
       "      <td>55.67</td>\n",
       "      <td>51.64</td>\n",
       "      <td>1.66</td>\n",
       "      <td>100.44</td>\n",
       "      <td>78.89</td>\n",
       "      <td>106.02</td>\n",
       "    </tr>\n",
       "    <tr>\n",
       "      <th>1994</th>\n",
       "      <td>55.61</td>\n",
       "      <td>51.76</td>\n",
       "      <td>1.64</td>\n",
       "      <td>102.26</td>\n",
       "      <td>79.15</td>\n",
       "      <td>105.85</td>\n",
       "    </tr>\n",
       "  </tbody>\n",
       "</table>\n",
       "</div>"
      ],
      "text/plain": [
       "                  all ages rate  70+ rate  5-14 rate  15-49 rate  \\\n",
       "Country     Year                                                   \n",
       "Afghanistan 1990          56.93     52.20       1.73      101.05   \n",
       "            1991          56.04     51.88       1.70       99.45   \n",
       "            1992          55.59     51.60       1.69       99.11   \n",
       "            1993          55.67     51.64       1.66      100.44   \n",
       "            1994          55.61     51.76       1.64      102.26   \n",
       "\n",
       "                  all age standarized rate  50-69 rate  \n",
       "Country     Year                                        \n",
       "Afghanistan 1990                     79.02      108.86  \n",
       "            1991                     78.60      107.58  \n",
       "            1992                     78.55      106.46  \n",
       "            1993                     78.89      106.02  \n",
       "            1994                     79.15      105.85  "
      ]
     },
     "execution_count": 57,
     "metadata": {},
     "output_type": "execute_result"
    }
   ],
   "source": [
    "df2 = df.set_index(['Country', 'Year'])\n",
    "df2.head()"
   ]
  },
  {
   "cell_type": "code",
   "execution_count": 58,
   "id": "87ea58dd",
   "metadata": {},
   "outputs": [],
   "source": [
    "df2.to_csv('./Datasets/CLEANED_alc_disorders_by_age.csv')"
   ]
  },
  {
   "cell_type": "markdown",
   "id": "a5ea7ff6",
   "metadata": {},
   "source": [
    "### Data quality check\n",
    "*By Elton John*"
   ]
  },
  {
   "cell_type": "markdown",
   "id": "28662ca5",
   "metadata": {},
   "source": [
    "The code below visualizes the distribution of all the variables in the dataset, and their association with the response."
   ]
  },
  {
   "cell_type": "code",
   "execution_count": 7,
   "id": "e7414e77",
   "metadata": {},
   "outputs": [],
   "source": [
    "#...Distribution of continuous variables...#"
   ]
  },
  {
   "cell_type": "code",
   "execution_count": 8,
   "id": "22edf169",
   "metadata": {},
   "outputs": [],
   "source": [
    "#...Distribution of categorical variables...#"
   ]
  },
  {
   "cell_type": "code",
   "execution_count": 9,
   "id": "8691b55d",
   "metadata": {},
   "outputs": [],
   "source": [
    "#...Association of the response with the predictors...#"
   ]
  },
  {
   "cell_type": "markdown",
   "id": "692aacb8",
   "metadata": {},
   "source": [
    "### Data cleaning\n",
    "*By Xena Valenzuela*\n",
    "\n",
    "From the data quality check we realized that:\n",
    "\n",
    "1. Some of the columns that should have contained only numeric values, specifically <>, <>, and <> have special characters such as \\*, #, %. We'll removes these characters, and convert the datatype of these columns to numeric.\n",
    "\n",
    "2. Some of the columns have more than 60% missing values, and it is very difficult to impute their values, as the values seem to be missing at random with negligible association with other predictors. We'll remove such columns from the data.\n",
    "\n",
    "3. The column `number_of_bedrooms` has some unreasonably high values such as 15. As our data consist of single-family homes in Evanston, we suspect that any value greater than 5 may be incorrect. We'll replace all values that are greater than 5 with an estimate obtained using the $K$-nearest neighbor approach.\n",
    "\n",
    "4. The columns `house_price` has some unreasonably high values. We'll tag all values greater than 1 billion dollars as \"potentially incorrect observation\", to see if they distort our prediction / inference later on.\n",
    "\n",
    "The code below implements the above cleaning."
   ]
  },
  {
   "cell_type": "code",
   "execution_count": null,
   "id": "23e0589a",
   "metadata": {},
   "outputs": [],
   "source": [
    "#...Code with comments...#"
   ]
  },
  {
   "cell_type": "markdown",
   "id": "eaa80857",
   "metadata": {},
   "source": [
    "### Data preparation\n",
    "*By Sankaranarayanan Balasubramanian and Chun-Li*\n",
    "\n",
    "The following data preparation steps helped us to prepare our data for implementing various modeling / validation techniques:\n",
    "\n",
    "1. Since we need to predict house price, we derived some new predictors *(from existing predictors)* that intuitively seem to be helpuful to predict house price. \n",
    "\n",
    "2. We have shuffled the dataset to prepare it for K-fold cross validation.\n",
    "\n",
    "3. We have created a standardized version of the dataset, as we will use it to develop Lasso / Ridge regression models."
   ]
  },
  {
   "cell_type": "code",
   "execution_count": 3,
   "id": "ffbd293c",
   "metadata": {},
   "outputs": [],
   "source": [
    "######---------------Creating new predictors----------------#########\n",
    "\n",
    "#Creating number of bedrooms per unit floor area\n",
    "\n",
    "#Creating ratio of bathrooms to bedrooms\n",
    "\n",
    "#Creating ratio of carpet area to floor area"
   ]
  },
  {
   "cell_type": "code",
   "execution_count": null,
   "id": "2fdc5c33",
   "metadata": {},
   "outputs": [],
   "source": [
    "######-----------Shuffling the dataset for K-fold------------#########"
   ]
  },
  {
   "cell_type": "code",
   "execution_count": null,
   "id": "7299e14e",
   "metadata": {},
   "outputs": [],
   "source": [
    "######-----Standardizing the dataset for Lasso / Ridge-------#########"
   ]
  },
  {
   "cell_type": "markdown",
   "id": "fbb11c9b",
   "metadata": {},
   "source": [
    "## Exploratory data analysis"
   ]
  },
  {
   "cell_type": "markdown",
   "id": "e4bd74a9",
   "metadata": {},
   "source": [
    "Put code with comments. The comments should explain the code such that it can be easily understood. You may put text *(in a markdown cell)* before a large chunk of code to explain the overall purpose of the code, if it is not intuitive. **Put the name of the person / persons who contributed to each code chunk / set of code chunks.**"
   ]
  },
  {
   "cell_type": "markdown",
   "id": "acab331a",
   "metadata": {},
   "source": [
    "## Developing the model"
   ]
  },
  {
   "cell_type": "markdown",
   "id": "ae5ec4c9",
   "metadata": {},
   "source": [
    "Put code with comments. The comments should explain the code such that it can be easily understood. You may put text *(in a markdown cell)* before a large chunk of code to explain the overall purpose of the code, if it is not intuitive. **Put the name of the person / persons who contributed to each code chunk / set of code chunks.**"
   ]
  },
  {
   "cell_type": "markdown",
   "id": "d9e06217",
   "metadata": {},
   "source": [
    "### Code fitting the final model"
   ]
  },
  {
   "cell_type": "markdown",
   "id": "e78c97d5",
   "metadata": {},
   "source": [
    "Put the code(s) that fit the final model(s) in separate cell(s), i.e., the code with the `.ols()` or `.logit()` functions."
   ]
  },
  {
   "cell_type": "markdown",
   "id": "62a185cb",
   "metadata": {},
   "source": [
    "## Conclusions and Recommendations to stakeholder(s)\n",
    "\n",
    "You may or may not have code to put in this section. Delete this section if it is irrelevant."
   ]
  }
 ],
 "metadata": {
  "kernelspec": {
   "display_name": "Python 3 (ipykernel)",
   "language": "python",
   "name": "python3"
  },
  "language_info": {
   "codemirror_mode": {
    "name": "ipython",
    "version": 3
   },
   "file_extension": ".py",
   "mimetype": "text/x-python",
   "name": "python",
   "nbconvert_exporter": "python",
   "pygments_lexer": "ipython3",
   "version": "3.9.12"
  }
 },
 "nbformat": 4,
 "nbformat_minor": 5
}
