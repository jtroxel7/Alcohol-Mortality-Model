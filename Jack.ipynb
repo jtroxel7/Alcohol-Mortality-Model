{
 "cells": [
  {
   "cell_type": "raw",
   "id": "33dd6c4c",
   "metadata": {},
   "source": [
    "---\n",
    "title: \"Project Code\"\n",
    "subtitle: LCJJ\n",
    "author: Lainey Neild, Charlie Lovett, Jacob Muriel, Jack Troxel\n",
    "date: 02/27/2023\n",
    "number-sections: true\n",
    "abstract: _This file contains the code for the project on Alcohol Consumption, as part of the STAT303-2 course in Winter 2023_.\n",
    "format: \n",
    "  html:\n",
    "    toc: true\n",
    "    toc-title: Contents\n",
    "    self-contained: true\n",
    "    font-size: 100%\n",
    "    toc-depth: 4\n",
    "    mainfont: serif\n",
    "jupyter: python3\n",
    "---"
   ]
  },
  {
   "cell_type": "markdown",
   "id": "fe7ea9bb",
   "metadata": {},
   "source": [
    "## Data quality check / cleaning / preparation \n",
    "\n",
    "Put code with comments. The comments should explain the code such that it can be easily understood. You may put text *(in a markdown cell)* before a large chunk of code to explain the overall purpose of the code, if it is not intuitive. **Put the name of the person / persons who contributed to each code chunk / set of code chunks.** An example is given below."
   ]
  },
  {
   "cell_type": "code",
   "execution_count": 1,
   "id": "8505b918",
   "metadata": {},
   "outputs": [],
   "source": [
    "import pandas as pd"
   ]
  },
  {
   "cell_type": "code",
   "execution_count": 93,
   "id": "b4aa147c",
   "metadata": {
    "scrolled": true
   },
   "outputs": [],
   "source": [
    "alcuse = pd.read_csv('datasets/alcohol use (had any alcohol).csv')"
   ]
  },
  {
   "cell_type": "code",
   "execution_count": 94,
   "id": "717cbc79",
   "metadata": {},
   "outputs": [],
   "source": [
    "alcuse = alcuse.dropna(how = 'all',axis =1)\n",
    "alcuse = alcuse.drop(columns = {'IndicatorCode','Indicator','ValueType','IsLatestYear','Period','Location type','Dim1 type','Dim1ValueCode','Language','DateModified','SpatialDimValueCode','ParentLocationCode','Value','Period type'})"
   ]
  },
  {
   "cell_type": "code",
   "execution_count": 123,
   "id": "28bc3062",
   "metadata": {},
   "outputs": [],
   "source": [
    "alcuse.rename(columns = {'Location':'Country', 'FactValueNumeric':'percent_alcohol_users', 'ParentLocation':'Region'}, inplace = True)"
   ]
  },
  {
   "cell_type": "code",
   "execution_count": 124,
   "id": "99b1b1ee",
   "metadata": {},
   "outputs": [],
   "source": [
    "alcuse = alcuse[alcuse.percent_alcohol_users != '.'].sort_values(by = 'Country').reset_index(drop = True)"
   ]
  },
  {
   "cell_type": "code",
   "execution_count": 125,
   "id": "7ee9a760",
   "metadata": {},
   "outputs": [
    {
     "data": {
      "text/html": [
       "<div>\n",
       "<style scoped>\n",
       "    .dataframe tbody tr th:only-of-type {\n",
       "        vertical-align: middle;\n",
       "    }\n",
       "\n",
       "    .dataframe tbody tr th {\n",
       "        vertical-align: top;\n",
       "    }\n",
       "\n",
       "    .dataframe thead th {\n",
       "        text-align: right;\n",
       "    }\n",
       "</style>\n",
       "<table border=\"1\" class=\"dataframe\">\n",
       "  <thead>\n",
       "    <tr style=\"text-align: right;\">\n",
       "      <th></th>\n",
       "      <th>Region</th>\n",
       "      <th>Country</th>\n",
       "      <th>Dim1</th>\n",
       "      <th>percent_alcohol_users</th>\n",
       "    </tr>\n",
       "  </thead>\n",
       "  <tbody>\n",
       "    <tr>\n",
       "      <th>0</th>\n",
       "      <td>Eastern Mediterranean</td>\n",
       "      <td>Afghanistan</td>\n",
       "      <td>Female</td>\n",
       "      <td>0.3</td>\n",
       "    </tr>\n",
       "    <tr>\n",
       "      <th>1</th>\n",
       "      <td>Eastern Mediterranean</td>\n",
       "      <td>Afghanistan</td>\n",
       "      <td>Male</td>\n",
       "      <td>1</td>\n",
       "    </tr>\n",
       "    <tr>\n",
       "      <th>2</th>\n",
       "      <td>Eastern Mediterranean</td>\n",
       "      <td>Afghanistan</td>\n",
       "      <td>Both sexes</td>\n",
       "      <td>0.7</td>\n",
       "    </tr>\n",
       "    <tr>\n",
       "      <th>3</th>\n",
       "      <td>Europe</td>\n",
       "      <td>Albania</td>\n",
       "      <td>Male</td>\n",
       "      <td>65</td>\n",
       "    </tr>\n",
       "    <tr>\n",
       "      <th>4</th>\n",
       "      <td>Europe</td>\n",
       "      <td>Albania</td>\n",
       "      <td>Female</td>\n",
       "      <td>37.6</td>\n",
       "    </tr>\n",
       "  </tbody>\n",
       "</table>\n",
       "</div>"
      ],
      "text/plain": [
       "                  Region      Country        Dim1 percent_alcohol_users\n",
       "0  Eastern Mediterranean  Afghanistan      Female                   0.3\n",
       "1  Eastern Mediterranean  Afghanistan        Male                     1\n",
       "2  Eastern Mediterranean  Afghanistan  Both sexes                   0.7\n",
       "3                 Europe      Albania        Male                    65\n",
       "4                 Europe      Albania      Female                  37.6"
      ]
     },
     "execution_count": 125,
     "metadata": {},
     "output_type": "execute_result"
    }
   ],
   "source": [
    "alcuse.head()"
   ]
  },
  {
   "cell_type": "code",
   "execution_count": 126,
   "id": "ae08d435",
   "metadata": {},
   "outputs": [],
   "source": [
    "alcuse2 = alcuse.pivot(index = ['Region','Country'], columns = 'Dim1', values = 'percent_alcohol_users')"
   ]
  },
  {
   "cell_type": "code",
   "execution_count": 138,
   "id": "12a84a72",
   "metadata": {},
   "outputs": [
    {
     "data": {
      "text/html": [
       "<div>\n",
       "<style scoped>\n",
       "    .dataframe tbody tr th:only-of-type {\n",
       "        vertical-align: middle;\n",
       "    }\n",
       "\n",
       "    .dataframe tbody tr th {\n",
       "        vertical-align: top;\n",
       "    }\n",
       "\n",
       "    .dataframe thead th {\n",
       "        text-align: right;\n",
       "    }\n",
       "</style>\n",
       "<table border=\"1\" class=\"dataframe\">\n",
       "  <thead>\n",
       "    <tr style=\"text-align: right;\">\n",
       "      <th></th>\n",
       "      <th>Dim1</th>\n",
       "      <th>Both sexes</th>\n",
       "      <th>Female</th>\n",
       "      <th>Male</th>\n",
       "    </tr>\n",
       "    <tr>\n",
       "      <th>Region</th>\n",
       "      <th>Country</th>\n",
       "      <th></th>\n",
       "      <th></th>\n",
       "      <th></th>\n",
       "    </tr>\n",
       "  </thead>\n",
       "  <tbody>\n",
       "    <tr>\n",
       "      <th rowspan=\"5\" valign=\"top\">Africa</th>\n",
       "      <th>Algeria</th>\n",
       "      <td>3.2</td>\n",
       "      <td>1.5</td>\n",
       "      <td>4.8</td>\n",
       "    </tr>\n",
       "    <tr>\n",
       "      <th>Angola</th>\n",
       "      <td>47.7</td>\n",
       "      <td>34.3</td>\n",
       "      <td>61.6</td>\n",
       "    </tr>\n",
       "    <tr>\n",
       "      <th>Benin</th>\n",
       "      <td>26.1</td>\n",
       "      <td>15.4</td>\n",
       "      <td>37</td>\n",
       "    </tr>\n",
       "    <tr>\n",
       "      <th>Botswana</th>\n",
       "      <td>32</td>\n",
       "      <td>20</td>\n",
       "      <td>44</td>\n",
       "    </tr>\n",
       "    <tr>\n",
       "      <th>Burkina Faso</th>\n",
       "      <td>36.9</td>\n",
       "      <td>23.2</td>\n",
       "      <td>51.2</td>\n",
       "    </tr>\n",
       "  </tbody>\n",
       "</table>\n",
       "</div>"
      ],
      "text/plain": [
       "Dim1                Both sexes Female  Male\n",
       "Region Country                             \n",
       "Africa Algeria             3.2    1.5   4.8\n",
       "       Angola             47.7   34.3  61.6\n",
       "       Benin              26.1   15.4    37\n",
       "       Botswana             32     20    44\n",
       "       Burkina Faso       36.9   23.2  51.2"
      ]
     },
     "execution_count": 138,
     "metadata": {},
     "output_type": "execute_result"
    }
   ],
   "source": [
    "alcuse2.head()"
   ]
  },
  {
   "cell_type": "code",
   "execution_count": 136,
   "id": "74961c1b",
   "metadata": {},
   "outputs": [],
   "source": [
    "alcuse2.to_csv('datasets/CLEANED_alcohol_use.csv')"
   ]
  },
  {
   "cell_type": "code",
   "execution_count": 128,
   "id": "2c1625dd",
   "metadata": {},
   "outputs": [],
   "source": [
    "heavy = pd.read_csv('datasets/heavy drinking (of people who drink).csv')"
   ]
  },
  {
   "cell_type": "code",
   "execution_count": 117,
   "id": "f1426004",
   "metadata": {},
   "outputs": [],
   "source": [
    "heavy = heavy.dropna(how = 'all',axis =1)\n",
    "heavy = heavy.drop(columns = {'IndicatorCode','Indicator','ValueType','IsLatestYear','Period','Location type','Dim1 type','Dim1ValueCode','Language','DateModified','SpatialDimValueCode','ParentLocationCode','Value','Period type'})"
   ]
  },
  {
   "cell_type": "code",
   "execution_count": 129,
   "id": "f5f7b7e1",
   "metadata": {},
   "outputs": [],
   "source": [
    "heavy.rename(columns = {'Location':'Country', 'FactValueNumeric':'percent_heavy_drinkers', 'ParentLocation':'Region'}, inplace = True)"
   ]
  },
  {
   "cell_type": "code",
   "execution_count": 130,
   "id": "c790a586",
   "metadata": {},
   "outputs": [],
   "source": [
    "heavy = heavy[heavy.percent_heavy_drinkers != '.'].sort_values(by = 'Country').reset_index(drop = True)"
   ]
  },
  {
   "cell_type": "code",
   "execution_count": 132,
   "id": "360dd16a",
   "metadata": {},
   "outputs": [],
   "source": [
    "heavy2 = heavy.pivot(index = ['Region','Country'], columns = 'Dim1', values = 'percent_heavy_drinkers')"
   ]
  },
  {
   "cell_type": "code",
   "execution_count": 137,
   "id": "19a77c77",
   "metadata": {},
   "outputs": [],
   "source": [
    "heavy2.to_csv('datasets/CLEANED_heavy_drinkers.csv')"
   ]
  },
  {
   "cell_type": "code",
   "execution_count": 155,
   "id": "40133d83",
   "metadata": {},
   "outputs": [],
   "source": [
    "#DONE\n",
    "disorders_by_age = pd.read_csv('Datasets/CLEANED_alc_disorders_by_age.csv')\n",
    "disorders_by_age = disorders_by_age.loc[disorders_by_age.Year == 2016]\n",
    "#DONE\n",
    "dependence = pd.read_csv('Datasets/CLEANED_alcohol_dependence.csv')\n",
    "dependence = dependence.rename(columns={'Both sexes':'perc_dependent','Female':'perc_dependent_female','Male':'perc_dependent_male'})\n",
    "#DONE\n",
    "use_disorders = pd.read_csv('Datasets/CLEANED_alcohol use disorders.csv')\n",
    "#DONE\n",
    "alcohol_use = pd.read_csv('Datasets/CLEANED_alcohol_use.csv')\n",
    "alcohol_use = alcohol_use.rename(columns={'Both sexes':'perc_consume_alc_past12','Female':'perc_consume_alc_past12Female','Male':'perc_consume_alc_past12Male'})\n",
    "#DONE\n",
    "beershare = pd.read_csv('Datasets/CLEANED_beer-as-share-alcohol-consumption.csv')\n",
    "#DONE\n",
    "heavy_drinkers = pd.read_csv('Datasets/CLEANED_heavy_drinkers.csv')\n",
    "heavy_drinkers = heavy_drinkers.rename(columns={'Both sexes': 'perc_heavy_drinkers_both_sexes','Female':'perc_heavy_drinkers_female','Male':'perc_heavy_drinkers_male'})\n",
    "#DONE\n",
    "spiritsshare = pd.read_csv('Datasets/CLEANED_spirits-as-share-alcohol-consumption.csv')\n",
    "#DONE\n",
    "wineshare = pd.read_csv('Datasets/CLEANED_wine-as-share-alcohol-consumption.csv')\n",
    "#DONE\n",
    "gdp = pd.read_csv('Datasets/CLEANED_alcohol-consumption-vs-gdp-per-capita.csv')\n",
    "#DONE\n",
    "prevalence_use_disorders_by_age = pd.read_csv('Datasets/CLEANED_prevalence-of-alcohol-use-disorders-by-age.csv')\n",
    "prevalence_use_disorders_by_age = prevalence_use_disorders_by_age.loc[prevalence_use_disorders_by_age.Year == 2016]\n",
    "#DONE\n",
    "alcinyear = pd.read_csv('Datasets/CLEANED_share-of-adults-who-drank-alcohol-in-last-year.csv')\n",
    "#DONE\n",
    "neverdrank = pd.read_csv('Datasets/CLEANED_share-of-population-who-never-drink-alcohol.csv')\n",
    "neverdrank = neverdrank.rename(columns= {'Lifetime Abstainers': 'perc_life_no_drink'})\n",
    "#DONE\n",
    "neverdrankyear = pd.read_csv('Datasets/CLEANED_share-who-have-not-drank-alcohol-in-last-year.csv')\n",
    "#DONE\n",
    "totalconsumption = pd.read_csv('Datasets/CLEANED_total-alcohol-consumption-per-capita-litres-of-pure-alcohol.csv')\n",
    "totalconsumption = totalconsumption.loc[totalconsumption.Year == 2015]"
   ]
  },
  {
   "cell_type": "code",
   "execution_count": 169,
   "id": "b9488b41",
   "metadata": {},
   "outputs": [
    {
     "name": "stderr",
     "output_type": "stream",
     "text": [
      "/var/folders/8r/9lj6p8855h77pyqwtfm2z63m0000gn/T/ipykernel_49131/375938776.py:9: FutureWarning: Passing 'suffixes' which cause duplicate columns {'Unnamed: 0_x'} in the result is deprecated and will raise a MergeError in a future version.\n",
      "  data = pd.merge(data,prevalence_use_disorders_by_age, on = 'Country')\n",
      "/var/folders/8r/9lj6p8855h77pyqwtfm2z63m0000gn/T/ipykernel_49131/375938776.py:11: FutureWarning: Passing 'suffixes' which cause duplicate columns {'Unnamed: 0_x'} in the result is deprecated and will raise a MergeError in a future version.\n",
      "  data = pd.merge(data,use_disorders, on = 'Country', how = 'outer')\n",
      "/var/folders/8r/9lj6p8855h77pyqwtfm2z63m0000gn/T/ipykernel_49131/375938776.py:13: FutureWarning: Passing 'suffixes' which cause duplicate columns {'Region_x'} in the result is deprecated and will raise a MergeError in a future version.\n",
      "  data = pd.merge(data,alcohol_use, on = 'Country', how = 'outer')\n"
     ]
    }
   ],
   "source": [
    "data = pd.merge(wineshare,beershare)\n",
    "data = pd.merge(data,spiritsshare)\n",
    "data = pd.merge(data,gdp, how = 'outer')\n",
    "data = data.drop(columns = {'Year','Unnamed: 0'})\n",
    "data = pd.merge(data,neverdrankyear, how = 'outer')\n",
    "data = pd.merge(data,neverdrank, how = 'outer')\n",
    "data = pd.merge(data,totalconsumption, on = 'Country', how = 'outer')\n",
    "data = pd.merge(data,alcinyear, on = 'Country', how = 'outer')\n",
    "data = pd.merge(data,prevalence_use_disorders_by_age, on = 'Country')\n",
    "data = pd.merge(data,disorders_by_age, on = 'Country')\n",
    "data = pd.merge(data,use_disorders, on = 'Country', how = 'outer')\n",
    "data = pd.merge(data,heavy_drinkers, on = 'Country', how = 'outer')\n",
    "data = pd.merge(data,alcohol_use, on = 'Country', how = 'outer')\n",
    "data = pd.merge(data,dependence, on = 'Country', how = 'outer')\n",
    "data = data.drop(columns={'Region_y','Unnamed: 0_x','Region_x','Unnamed: 0_y','Year_x'})\n",
    "\n",
    "\n"
   ]
  },
  {
   "cell_type": "code",
   "execution_count": 172,
   "id": "c3a6a6da",
   "metadata": {},
   "outputs": [
    {
     "data": {
      "text/plain": [
       "Index(['Country', 'wine_as_share_alcohol_consumption',\n",
       "       'beer_as_share_alcohol_consumption',\n",
       "       'spirits_as_share_alcohol_consumption',\n",
       "       'tot_alcohol_consumption_per_capita_liters', 'gdp_per_capita',\n",
       "       'Population', 'percent_who_have_not_drank_alcohol_in_last_year',\n",
       "       'perc_life_no_drink', 'total_alcohol_consumption_per_capita_liters',\n",
       "       'percent_who_have_drank_alcohol_in_last_year', 'Year_y',\n",
       "       'prev_alc_use_disorders_age_10_14', 'prev_alc_use_disorders_age_15_19',\n",
       "       'prev_alc_use_disorders_all_ages', 'prev_alc_use_disorders_age_25_29',\n",
       "       'prev_alc_use_disorders_age_30_34', 'prev_alc_use_disorders_age_20_24',\n",
       "       'prev_alc_use_disorders_age_70+', 'prev_alc_use_disorders_age_15_49',\n",
       "       'prev_alc_use_disorders_age_5_14', 'prev_alc_use_disorders_age_50_69',\n",
       "       'prev_alc_use_disorders_age_standardized', 'Year',\n",
       "       'daly_alc_use_disorders_all_ages', 'daly_alc_use_disorders_70+',\n",
       "       'daly_alc_use_disorders_5_14', 'daly_alc_use_disorders_15_49',\n",
       "       'daly_alc_use_disorders__all_ages_standardized',\n",
       "       'daly_alc_use_disorders_50_69', 'share_alc_use_disorders_both_sexes',\n",
       "       'share_alc_use_disorders_female', 'share_alc_use_disorders_male',\n",
       "       'perc_heavy_drinkers_both_sexes', 'perc_heavy_drinkers_female',\n",
       "       'perc_heavy_drinkers_male', 'perc_consume_alc_past12',\n",
       "       'perc_consume_alc_past12Female', 'perc_consume_alc_past12Male',\n",
       "       'Region', 'perc_dependent', 'perc_dependent_female',\n",
       "       'perc_dependent_male'],\n",
       "      dtype='object')"
      ]
     },
     "execution_count": 172,
     "metadata": {},
     "output_type": "execute_result"
    }
   ],
   "source": [
    "data.columns"
   ]
  },
  {
   "cell_type": "markdown",
   "id": "a5ea7ff6",
   "metadata": {},
   "source": [
    "### Data quality check\n",
    "*By Elton John*"
   ]
  },
  {
   "cell_type": "markdown",
   "id": "28662ca5",
   "metadata": {},
   "source": [
    "The code below visualizes the distribution of all the variables in the dataset, and their association with the response."
   ]
  },
  {
   "cell_type": "code",
   "execution_count": 7,
   "id": "e7414e77",
   "metadata": {},
   "outputs": [],
   "source": [
    "#...Distribution of continuous variables...#"
   ]
  },
  {
   "cell_type": "code",
   "execution_count": 8,
   "id": "22edf169",
   "metadata": {},
   "outputs": [],
   "source": [
    "#...Distribution of categorical variables...#"
   ]
  },
  {
   "cell_type": "code",
   "execution_count": 9,
   "id": "8691b55d",
   "metadata": {},
   "outputs": [],
   "source": [
    "#...Association of the response with the predictors...#"
   ]
  },
  {
   "cell_type": "markdown",
   "id": "692aacb8",
   "metadata": {},
   "source": [
    "### Data cleaning\n",
    "*By Xena Valenzuela*\n",
    "\n",
    "From the data quality check we realized that:\n",
    "\n",
    "1. Some of the columns that should have contained only numeric values, specifically <>, <>, and <> have special characters such as \\*, #, %. We'll removes these characters, and convert the datatype of these columns to numeric.\n",
    "\n",
    "2. Some of the columns have more than 60% missing values, and it is very difficult to impute their values, as the values seem to be missing at random with negligible association with other predictors. We'll remove such columns from the data.\n",
    "\n",
    "3. The column `number_of_bedrooms` has some unreasonably high values such as 15. As our data consist of single-family homes in Evanston, we suspect that any value greater than 5 may be incorrect. We'll replace all values that are greater than 5 with an estimate obtained using the $K$-nearest neighbor approach.\n",
    "\n",
    "4. The columns `house_price` has some unreasonably high values. We'll tag all values greater than 1 billion dollars as \"potentially incorrect observation\", to see if they distort our prediction / inference later on.\n",
    "\n",
    "The code below implements the above cleaning."
   ]
  },
  {
   "cell_type": "code",
   "execution_count": null,
   "id": "23e0589a",
   "metadata": {},
   "outputs": [],
   "source": [
    "#...Code with comments...#"
   ]
  },
  {
   "cell_type": "markdown",
   "id": "eaa80857",
   "metadata": {},
   "source": [
    "### Data preparation\n",
    "*By Sankaranarayanan Balasubramanian and Chun-Li*\n",
    "\n",
    "The following data preparation steps helped us to prepare our data for implementing various modeling / validation techniques:\n",
    "\n",
    "1. Since we need to predict house price, we derived some new predictors *(from existing predictors)* that intuitively seem to be helpuful to predict house price. \n",
    "\n",
    "2. We have shuffled the dataset to prepare it for K-fold cross validation.\n",
    "\n",
    "3. We have created a standardized version of the dataset, as we will use it to develop Lasso / Ridge regression models."
   ]
  },
  {
   "cell_type": "code",
   "execution_count": 3,
   "id": "ffbd293c",
   "metadata": {},
   "outputs": [],
   "source": [
    "######---------------Creating new predictors----------------#########\n",
    "\n",
    "#Creating number of bedrooms per unit floor area\n",
    "\n",
    "#Creating ratio of bathrooms to bedrooms\n",
    "\n",
    "#Creating ratio of carpet area to floor area"
   ]
  },
  {
   "cell_type": "code",
   "execution_count": null,
   "id": "2fdc5c33",
   "metadata": {},
   "outputs": [],
   "source": [
    "######-----------Shuffling the dataset for K-fold------------#########"
   ]
  },
  {
   "cell_type": "code",
   "execution_count": null,
   "id": "7299e14e",
   "metadata": {},
   "outputs": [],
   "source": [
    "######-----Standardizing the dataset for Lasso / Ridge-------#########"
   ]
  },
  {
   "cell_type": "markdown",
   "id": "fbb11c9b",
   "metadata": {},
   "source": [
    "## Exploratory data analysis"
   ]
  },
  {
   "cell_type": "markdown",
   "id": "e4bd74a9",
   "metadata": {},
   "source": [
    "Put code with comments. The comments should explain the code such that it can be easily understood. You may put text *(in a markdown cell)* before a large chunk of code to explain the overall purpose of the code, if it is not intuitive. **Put the name of the person / persons who contributed to each code chunk / set of code chunks.**"
   ]
  },
  {
   "cell_type": "markdown",
   "id": "acab331a",
   "metadata": {},
   "source": [
    "## Developing the model"
   ]
  },
  {
   "cell_type": "markdown",
   "id": "ae5ec4c9",
   "metadata": {},
   "source": [
    "Put code with comments. The comments should explain the code such that it can be easily understood. You may put text *(in a markdown cell)* before a large chunk of code to explain the overall purpose of the code, if it is not intuitive. **Put the name of the person / persons who contributed to each code chunk / set of code chunks.**"
   ]
  },
  {
   "cell_type": "markdown",
   "id": "d9e06217",
   "metadata": {},
   "source": [
    "### Code fitting the final model"
   ]
  },
  {
   "cell_type": "markdown",
   "id": "e78c97d5",
   "metadata": {},
   "source": [
    "Put the code(s) that fit the final model(s) in separate cell(s), i.e., the code with the `.ols()` or `.logit()` functions."
   ]
  },
  {
   "cell_type": "markdown",
   "id": "62a185cb",
   "metadata": {},
   "source": [
    "## Conclusions and Recommendations to stakeholder(s)\n",
    "\n",
    "You may or may not have code to put in this section. Delete this section if it is irrelevant."
   ]
  }
 ],
 "metadata": {
  "kernelspec": {
   "display_name": "Python 3 (ipykernel)",
   "language": "python",
   "name": "python3"
  },
  "language_info": {
   "codemirror_mode": {
    "name": "ipython",
    "version": 3
   },
   "file_extension": ".py",
   "mimetype": "text/x-python",
   "name": "python",
   "nbconvert_exporter": "python",
   "pygments_lexer": "ipython3",
   "version": "3.9.13"
  }
 },
 "nbformat": 4,
 "nbformat_minor": 5
}
